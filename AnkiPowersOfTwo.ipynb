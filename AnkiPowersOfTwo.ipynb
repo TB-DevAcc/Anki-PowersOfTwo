{
  "nbformat": 4,
  "nbformat_minor": 0,
  "metadata": {
    "colab": {
      "name": "Anki-PowersOfTwo.ipynb",
      "provenance": [],
      "collapsed_sections": []
    },
    "kernelspec": {
      "name": "python3",
      "display_name": "Python 3"
    }
  },
  "cells": [
    {
      "cell_type": "markdown",
      "metadata": {
        "id": "RVwy2-yDnKLU",
        "colab_type": "text"
      },
      "source": [
        "# Anki Powers of Two package\n",
        "\n",
        "Simple anki package for learning the powers of two. Created with [genanki](https://github.com/kerrickstaley/genanki)."
      ]
    },
    {
      "cell_type": "code",
      "metadata": {
        "id": "NVIxq0yBjMd8",
        "colab_type": "code",
        "colab": {
          "base_uri": "https://localhost:8080/",
          "height": 103
        },
        "outputId": "7ebb256c-bcd3-4eae-84a4-cd38f7dc5e8c"
      },
      "source": [
        "!pip install genanki"
      ],
      "execution_count": 113,
      "outputs": [
        {
          "output_type": "stream",
          "text": [
            "Requirement already satisfied: genanki in /usr/local/lib/python3.6/dist-packages (0.8.0)\n",
            "Requirement already satisfied: pystache in /usr/local/lib/python3.6/dist-packages (from genanki) (0.5.4)\n",
            "Requirement already satisfied: frozendict in /usr/local/lib/python3.6/dist-packages (from genanki) (1.2)\n",
            "Requirement already satisfied: cached-property in /usr/local/lib/python3.6/dist-packages (from genanki) (1.5.1)\n",
            "Requirement already satisfied: pyyaml in /usr/local/lib/python3.6/dist-packages (from genanki) (3.13)\n"
          ],
          "name": "stdout"
        }
      ]
    },
    {
      "cell_type": "code",
      "metadata": {
        "id": "3aJP0PDPjcKd",
        "colab_type": "code",
        "colab": {}
      },
      "source": [
        "import genanki\n",
        "import random"
      ],
      "execution_count": 114,
      "outputs": []
    },
    {
      "cell_type": "code",
      "metadata": {
        "id": "Tx0Le_WijaqI",
        "colab_type": "code",
        "colab": {}
      },
      "source": [
        "id_model = random.randrange(1 << 30, 1 << 31)\n",
        "id_deck = random.randrange(1 << 30, 1 << 31)"
      ],
      "execution_count": 115,
      "outputs": []
    },
    {
      "cell_type": "code",
      "metadata": {
        "id": "npGqcaRGjOIt",
        "colab_type": "code",
        "colab": {}
      },
      "source": [
        "my_model = genanki.Model(\n",
        "  id_model,\n",
        "  'Powers of two Model',\n",
        "  fields=[\n",
        "    {'name': 'Question'},\n",
        "    {'name': 'Answer'},\n",
        "  ],\n",
        "  templates=[\n",
        "    {\n",
        "      'name': 'Card 1',\n",
        "      'qfmt': \"\"\"\n",
        "              <div class='center-me'>\n",
        "                {{Question}}\n",
        "              </div>\n",
        "              \"\"\",\n",
        "      'afmt': \"\"\"\n",
        "              <div class=\"center-me\">\n",
        "                {{FrontSide}}\n",
        "                <hr id=\"answer\">\n",
        "              </div>\n",
        "              <div class=\"center-me\">\n",
        "                {{Answer}}\n",
        "              </div>\n",
        "              \"\"\",\n",
        "    }],\n",
        "    css=\"\"\"\n",
        "        .center-me {\n",
        "          text-align: center;\n",
        "          padding-top: 35px;\n",
        "          padding-bottom: 35px;\n",
        "        } \n",
        "        \"\"\"\n",
        "  )"
      ],
      "execution_count": 116,
      "outputs": []
    },
    {
      "cell_type": "code",
      "metadata": {
        "id": "To3MILKIj2Zl",
        "colab_type": "code",
        "colab": {}
      },
      "source": [
        "my_deck = genanki.Deck(\n",
        "  id_deck,\n",
        "  'Powers of two')"
      ],
      "execution_count": 117,
      "outputs": []
    },
    {
      "cell_type": "code",
      "metadata": {
        "id": "ulRzwVw8jSYh",
        "colab_type": "code",
        "colab": {}
      },
      "source": [
        "def add_new_note(q: str, a: str) -> None:\n",
        "  # spaces for readability\n",
        "  if len(a) > 4:\n",
        "      i = -3\n",
        "      while abs(i) <= len(a):\n",
        "        a = a[:i] + '\\ ' + a[i:]\n",
        "        i -= 5\n",
        "\n",
        "  # latex for readability\n",
        "  q = '[latex]$2^{' + q + '}$[/latex]'\n",
        "  a = '[latex]$' + a + '$[/latex]'\n",
        "  \n",
        "  my_note = genanki.Note(\n",
        "    model=my_model, \n",
        "    fields=[q, a])\n",
        "  my_deck.add_note(my_note)"
      ],
      "execution_count": 118,
      "outputs": []
    },
    {
      "cell_type": "code",
      "metadata": {
        "id": "2m4Ow8gqkYCj",
        "colab_type": "code",
        "colab": {}
      },
      "source": [
        "for q, a in [(str(i), str(2**i)) for i in range(33)]:\n",
        "  add_new_note(q, a)"
      ],
      "execution_count": 119,
      "outputs": []
    },
    {
      "cell_type": "code",
      "metadata": {
        "id": "1Yalxwu9ktPd",
        "colab_type": "code",
        "colab": {}
      },
      "source": [
        "genanki.Package(my_deck).write_to_file('PowersOfTwo.apkg')"
      ],
      "execution_count": 120,
      "outputs": []
    },
    {
      "cell_type": "code",
      "metadata": {
        "id": "0pZ1x2akkxxI",
        "colab_type": "code",
        "colab": {}
      },
      "source": [
        ""
      ],
      "execution_count": 120,
      "outputs": []
    }
  ]
}