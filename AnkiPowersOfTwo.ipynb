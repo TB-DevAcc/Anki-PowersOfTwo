{
  "nbformat": 4,
  "nbformat_minor": 0,
  "metadata": {
    "colab": {
      "name": "AnkiPowersOfTwo.ipynb",
      "provenance": []
    },
    "kernelspec": {
      "name": "python3",
      "display_name": "Python 3"
    }
  },
  "cells": [
    {
      "cell_type": "markdown",
      "metadata": {
        "id": "RVwy2-yDnKLU",
        "colab_type": "text"
      },
      "source": [
        "# Anki Powers of Two package\n",
        "\n",
        "Simple anki package for learning the powers of two. Created with [genanki](https://github.com/kerrickstaley/genanki)."
      ]
    },
    {
      "cell_type": "code",
      "metadata": {
        "id": "NVIxq0yBjMd8",
        "colab_type": "code",
        "colab": {
          "base_uri": "https://localhost:8080/",
          "height": 103
        },
        "outputId": "7f08f550-5758-4cc8-cda2-09feed348417"
      },
      "source": [
        "!pip install genanki"
      ],
      "execution_count": 30,
      "outputs": [
        {
          "output_type": "stream",
          "text": [
            "Requirement already satisfied: genanki in /usr/local/lib/python3.6/dist-packages (0.8.0)\n",
            "Requirement already satisfied: pyyaml in /usr/local/lib/python3.6/dist-packages (from genanki) (3.13)\n",
            "Requirement already satisfied: pystache in /usr/local/lib/python3.6/dist-packages (from genanki) (0.5.4)\n",
            "Requirement already satisfied: frozendict in /usr/local/lib/python3.6/dist-packages (from genanki) (1.2)\n",
            "Requirement already satisfied: cached-property in /usr/local/lib/python3.6/dist-packages (from genanki) (1.5.1)\n"
          ],
          "name": "stdout"
        }
      ]
    },
    {
      "cell_type": "code",
      "metadata": {
        "id": "3aJP0PDPjcKd",
        "colab_type": "code",
        "colab": {}
      },
      "source": [
        "import genanki\n",
        "import random"
      ],
      "execution_count": 31,
      "outputs": []
    },
    {
      "cell_type": "code",
      "metadata": {
        "id": "Tx0Le_WijaqI",
        "colab_type": "code",
        "colab": {}
      },
      "source": [
        "id_model = random.randrange(1 << 30, 1 << 31)\n",
        "id_deck = random.randrange(1 << 30, 1 << 31)"
      ],
      "execution_count": 32,
      "outputs": []
    },
    {
      "cell_type": "code",
      "metadata": {
        "id": "npGqcaRGjOIt",
        "colab_type": "code",
        "colab": {}
      },
      "source": [
        "my_model = genanki.Model(\n",
        "  id_model,\n",
        "  'Powers of two Model',\n",
        "  fields=[\n",
        "    {'name': 'Question'},\n",
        "    {'name': 'Answer'},\n",
        "  ],\n",
        "  templates=[\n",
        "    {\n",
        "      'name': 'Card 1',\n",
        "      'qfmt': '{{Question}}',\n",
        "      'afmt': '{{FrontSide}}<hr id=\"answer\">{{Answer}}',\n",
        "    },\n",
        "  ])"
      ],
      "execution_count": 33,
      "outputs": []
    },
    {
      "cell_type": "code",
      "metadata": {
        "id": "To3MILKIj2Zl",
        "colab_type": "code",
        "colab": {}
      },
      "source": [
        "my_deck = genanki.Deck(\n",
        "  id_deck,\n",
        "  'Powers of two')"
      ],
      "execution_count": 34,
      "outputs": []
    },
    {
      "cell_type": "code",
      "metadata": {
        "id": "ulRzwVw8jSYh",
        "colab_type": "code",
        "colab": {}
      },
      "source": [
        "def add_new_note(q: str, a: str) -> None:\n",
        "  if len(a) > 4:\n",
        "      i = -3\n",
        "      while abs(i) <= len(a):\n",
        "        a = a[:i] + ' ' + a[i:]\n",
        "        i -= 4\n",
        "  \n",
        "  my_note = genanki.Note(\n",
        "    model=my_model, \n",
        "    fields=[q, a])\n",
        "  my_deck.add_note(my_note)"
      ],
      "execution_count": 35,
      "outputs": []
    },
    {
      "cell_type": "code",
      "metadata": {
        "id": "2m4Ow8gqkYCj",
        "colab_type": "code",
        "colab": {}
      },
      "source": [
        "for q, a in [(str(i), str(2**i)) for i in range(33)]:\n",
        "  add_new_note(q, a)"
      ],
      "execution_count": 36,
      "outputs": []
    },
    {
      "cell_type": "code",
      "metadata": {
        "id": "1Yalxwu9ktPd",
        "colab_type": "code",
        "colab": {}
      },
      "source": [
        "genanki.Package(my_deck).write_to_file('PowersOfTwo.apkg')"
      ],
      "execution_count": 37,
      "outputs": []
    },
    {
      "cell_type": "code",
      "metadata": {
        "id": "0pZ1x2akkxxI",
        "colab_type": "code",
        "colab": {}
      },
      "source": [
        ""
      ],
      "execution_count": 37,
      "outputs": []
    }
  ]
}